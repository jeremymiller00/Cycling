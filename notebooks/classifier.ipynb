{
 "cells": [
  {
   "cell_type": "code",
   "execution_count": 14,
   "metadata": {},
   "outputs": [],
   "source": [
    "import pandas as pd\n",
    "import json\n",
    "from sklearn.naive_bayes import MultinomialNB, BernoulliNB\n",
    "from sklearn.feature_extraction.text import TfidfVectorizer\n",
    "from sklearn.model_selection import train_test_split\n",
    "from sklearn.model_selection import cross_validate, cross_val_score, GridSearchCV\n",
    "from sklearn.metrics import confusion_matrix, classification_report, accuracy_score, roc_auc_score, roc_curve\n",
    "import warnings\n",
    "warnings.filterwarnings('ignore')\n",
    "import pickle"
   ]
  },
  {
   "cell_type": "code",
   "execution_count": 15,
   "metadata": {},
   "outputs": [],
   "source": [
    "with open('../data/100_articles.json', 'r') as f:\n",
    "    file = json.load(f)"
   ]
  },
  {
   "cell_type": "code",
   "execution_count": 16,
   "metadata": {},
   "outputs": [],
   "source": [
    "df = pd.DataFrame(file['webscrape'])"
   ]
  },
  {
   "cell_type": "code",
   "execution_count": 17,
   "metadata": {},
   "outputs": [
    {
     "name": "stdout",
     "output_type": "stream",
     "text": [
      "<class 'pandas.core.frame.DataFrame'>\n",
      "RangeIndex: 99 entries, 0 to 98\n",
      "Data columns (total 3 columns):\n",
      "isCycling    99 non-null object\n",
      "isRacing     99 non-null object\n",
      "text         99 non-null object\n",
      "dtypes: object(3)\n",
      "memory usage: 2.4+ KB\n"
     ]
    }
   ],
   "source": [
    "df.info()"
   ]
  },
  {
   "cell_type": "code",
   "execution_count": 18,
   "metadata": {},
   "outputs": [
    {
     "data": {
      "text/html": [
       "<div>\n",
       "<style scoped>\n",
       "    .dataframe tbody tr th:only-of-type {\n",
       "        vertical-align: middle;\n",
       "    }\n",
       "\n",
       "    .dataframe tbody tr th {\n",
       "        vertical-align: top;\n",
       "    }\n",
       "\n",
       "    .dataframe thead th {\n",
       "        text-align: right;\n",
       "    }\n",
       "</style>\n",
       "<table border=\"1\" class=\"dataframe\">\n",
       "  <thead>\n",
       "    <tr style=\"text-align: right;\">\n",
       "      <th></th>\n",
       "      <th>isCycling</th>\n",
       "      <th>isRacing</th>\n",
       "      <th>text</th>\n",
       "    </tr>\n",
       "  </thead>\n",
       "  <tbody>\n",
       "    <tr>\n",
       "      <th>49</th>\n",
       "      <td>Y</td>\n",
       "      <td>N</td>\n",
       "      <td>Biking events, from Bike New York to moonlight...</td>\n",
       "    </tr>\n",
       "    <tr>\n",
       "      <th>51</th>\n",
       "      <td>Y</td>\n",
       "      <td>N</td>\n",
       "      <td>No sideswiping taxis, no fume-belching buses, ...</td>\n",
       "    </tr>\n",
       "    <tr>\n",
       "      <th>85</th>\n",
       "      <td>Y</td>\n",
       "      <td>N</td>\n",
       "      <td>To the Editor: I'm heartened to read that Mayo...</td>\n",
       "    </tr>\n",
       "    <tr>\n",
       "      <th>92</th>\n",
       "      <td>Y</td>\n",
       "      <td>N</td>\n",
       "      <td>For decades the bicycle industry has drawn its...</td>\n",
       "    </tr>\n",
       "    <tr>\n",
       "      <th>96</th>\n",
       "      <td>Y</td>\n",
       "      <td>N</td>\n",
       "      <td>To the Editor: You report that some New Yorker...</td>\n",
       "    </tr>\n",
       "  </tbody>\n",
       "</table>\n",
       "</div>"
      ],
      "text/plain": [
       "   isCycling isRacing                                               text\n",
       "49         Y        N  Biking events, from Bike New York to moonlight...\n",
       "51         Y        N  No sideswiping taxis, no fume-belching buses, ...\n",
       "85         Y        N  To the Editor: I'm heartened to read that Mayo...\n",
       "92         Y        N  For decades the bicycle industry has drawn its...\n",
       "96         Y        N  To the Editor: You report that some New Yorker..."
      ]
     },
     "execution_count": 18,
     "metadata": {},
     "output_type": "execute_result"
    }
   ],
   "source": [
    "df[(df['isCycling']=='Y')&(df['isRacing']=='N')]"
   ]
  },
  {
   "cell_type": "code",
   "execution_count": 19,
   "metadata": {},
   "outputs": [],
   "source": [
    "df['c_label'] = [1 if x == 'Y' else 0 for x in df['isCycling']]\n",
    "df['r_label'] = [1 if x == 'Y' else 0 for x in df['isRacing'] ]"
   ]
  },
  {
   "cell_type": "code",
   "execution_count": 20,
   "metadata": {},
   "outputs": [],
   "source": [
    "df['label']  = (df['c_label'] + df['r_label']) // 2"
   ]
  },
  {
   "cell_type": "code",
   "execution_count": 21,
   "metadata": {},
   "outputs": [
    {
     "data": {
      "text/html": [
       "<div>\n",
       "<style scoped>\n",
       "    .dataframe tbody tr th:only-of-type {\n",
       "        vertical-align: middle;\n",
       "    }\n",
       "\n",
       "    .dataframe tbody tr th {\n",
       "        vertical-align: top;\n",
       "    }\n",
       "\n",
       "    .dataframe thead th {\n",
       "        text-align: right;\n",
       "    }\n",
       "</style>\n",
       "<table border=\"1\" class=\"dataframe\">\n",
       "  <thead>\n",
       "    <tr style=\"text-align: right;\">\n",
       "      <th></th>\n",
       "      <th>isCycling</th>\n",
       "      <th>isRacing</th>\n",
       "      <th>text</th>\n",
       "      <th>c_label</th>\n",
       "      <th>r_label</th>\n",
       "      <th>label</th>\n",
       "    </tr>\n",
       "  </thead>\n",
       "  <tbody>\n",
       "    <tr>\n",
       "      <th>49</th>\n",
       "      <td>Y</td>\n",
       "      <td>N</td>\n",
       "      <td>Biking events, from Bike New York to moonlight...</td>\n",
       "      <td>1</td>\n",
       "      <td>0</td>\n",
       "      <td>0</td>\n",
       "    </tr>\n",
       "    <tr>\n",
       "      <th>51</th>\n",
       "      <td>Y</td>\n",
       "      <td>N</td>\n",
       "      <td>No sideswiping taxis, no fume-belching buses, ...</td>\n",
       "      <td>1</td>\n",
       "      <td>0</td>\n",
       "      <td>0</td>\n",
       "    </tr>\n",
       "    <tr>\n",
       "      <th>85</th>\n",
       "      <td>Y</td>\n",
       "      <td>N</td>\n",
       "      <td>To the Editor: I'm heartened to read that Mayo...</td>\n",
       "      <td>1</td>\n",
       "      <td>0</td>\n",
       "      <td>0</td>\n",
       "    </tr>\n",
       "    <tr>\n",
       "      <th>92</th>\n",
       "      <td>Y</td>\n",
       "      <td>N</td>\n",
       "      <td>For decades the bicycle industry has drawn its...</td>\n",
       "      <td>1</td>\n",
       "      <td>0</td>\n",
       "      <td>0</td>\n",
       "    </tr>\n",
       "    <tr>\n",
       "      <th>96</th>\n",
       "      <td>Y</td>\n",
       "      <td>N</td>\n",
       "      <td>To the Editor: You report that some New Yorker...</td>\n",
       "      <td>1</td>\n",
       "      <td>0</td>\n",
       "      <td>0</td>\n",
       "    </tr>\n",
       "  </tbody>\n",
       "</table>\n",
       "</div>"
      ],
      "text/plain": [
       "   isCycling isRacing                                               text  \\\n",
       "49         Y        N  Biking events, from Bike New York to moonlight...   \n",
       "51         Y        N  No sideswiping taxis, no fume-belching buses, ...   \n",
       "85         Y        N  To the Editor: I'm heartened to read that Mayo...   \n",
       "92         Y        N  For decades the bicycle industry has drawn its...   \n",
       "96         Y        N  To the Editor: You report that some New Yorker...   \n",
       "\n",
       "    c_label  r_label  label  \n",
       "49        1        0      0  \n",
       "51        1        0      0  \n",
       "85        1        0      0  \n",
       "92        1        0      0  \n",
       "96        1        0      0  "
      ]
     },
     "execution_count": 21,
     "metadata": {},
     "output_type": "execute_result"
    }
   ],
   "source": [
    "df[(df['isCycling']=='Y')&(df['isRacing']=='N')]"
   ]
  },
  {
   "cell_type": "code",
   "execution_count": 22,
   "metadata": {},
   "outputs": [],
   "source": [
    "X = df['text']\n",
    "y = df['label']\n",
    "X_train, X_test, y_train, y_test = train_test_split(X, y, test_size=0.3, random_state=42)"
   ]
  },
  {
   "cell_type": "code",
   "execution_count": 23,
   "metadata": {},
   "outputs": [],
   "source": [
    "vectorizer = TfidfVectorizer()"
   ]
  },
  {
   "cell_type": "code",
   "execution_count": 24,
   "metadata": {},
   "outputs": [],
   "source": [
    "matrix = vectorizer.fit_transform(X_train)"
   ]
  },
  {
   "cell_type": "code",
   "execution_count": 27,
   "metadata": {},
   "outputs": [
    {
     "data": {
      "text/plain": [
       "<69x6862 sparse matrix of type '<class 'numpy.float64'>'\n",
       "\twith 23359 stored elements in Compressed Sparse Row format>"
      ]
     },
     "execution_count": 27,
     "metadata": {},
     "output_type": "execute_result"
    }
   ],
   "source": [
    "matrix"
   ]
  },
  {
   "cell_type": "code",
   "execution_count": 28,
   "metadata": {},
   "outputs": [],
   "source": [
    "mnb = MultinomialNB()\n",
    "bnb = BernoulliNB()"
   ]
  },
  {
   "cell_type": "code",
   "execution_count": 66,
   "metadata": {},
   "outputs": [],
   "source": [
    "# cv_results = cross_validate(clf, matrix, y_train, return_train_score=True)"
   ]
  },
  {
   "cell_type": "code",
   "execution_count": 67,
   "metadata": {},
   "outputs": [
    {
     "data": {
      "text/plain": [
       "{'fit_time': array([0.00264978, 0.00269008, 0.00276208]),\n",
       " 'score_time': array([0.00113893, 0.00110984, 0.00072694]),\n",
       " 'test_score': array([0.70833333, 0.73913043, 0.72727273]),\n",
       " 'train_score': array([0.84444444, 0.91304348, 0.87234043])}"
      ]
     },
     "execution_count": 67,
     "metadata": {},
     "output_type": "execute_result"
    }
   ],
   "source": [
    "# cv_results"
   ]
  },
  {
   "cell_type": "code",
   "execution_count": 29,
   "metadata": {},
   "outputs": [],
   "source": [
    "parameters = {\n",
    "    'alpha': [0.0, 0.3, 0.7, 1.0],\n",
    "    'fit_prior': [True, False]\n",
    "}"
   ]
  },
  {
   "cell_type": "code",
   "execution_count": 30,
   "metadata": {},
   "outputs": [],
   "source": [
    "m_clf = GridSearchCV(mnb, parameters, cv=5)\n",
    "b_clf = GridSearchCV(bnb, parameters, cv=5)"
   ]
  },
  {
   "cell_type": "code",
   "execution_count": 31,
   "metadata": {},
   "outputs": [
    {
     "data": {
      "text/plain": [
       "GridSearchCV(cv=5, error_score='raise',\n",
       "       estimator=BernoulliNB(alpha=1.0, binarize=0.0, class_prior=None, fit_prior=True),\n",
       "       fit_params=None, iid=True, n_jobs=1,\n",
       "       param_grid={'alpha': [0.0, 0.3, 0.7, 1.0], 'fit_prior': [True, False]},\n",
       "       pre_dispatch='2*n_jobs', refit=True, return_train_score='warn',\n",
       "       scoring=None, verbose=0)"
      ]
     },
     "execution_count": 31,
     "metadata": {},
     "output_type": "execute_result"
    }
   ],
   "source": [
    "m_clf.fit(matrix, y_train)\n",
    "b_clf.fit(matrix, y_train)"
   ]
  },
  {
   "cell_type": "markdown",
   "metadata": {},
   "source": [
    "## Multinomial NB CV Results:"
   ]
  },
  {
   "cell_type": "code",
   "execution_count": 32,
   "metadata": {},
   "outputs": [
    {
     "data": {
      "text/plain": [
       "{'mean_fit_time': array([0.00729327, 0.00159898, 0.00176759, 0.00162859, 0.0015667 ,\n",
       "        0.0016139 , 0.00152812, 0.00159817]),\n",
       " 'std_fit_time': array([1.04464287e-02, 4.45391432e-05, 2.43657508e-04, 2.20950842e-04,\n",
       "        1.28846959e-04, 1.26207671e-04, 6.87539988e-05, 7.24789971e-05]),\n",
       " 'mean_score_time': array([0.00062041, 0.00037689, 0.00040059, 0.00036087, 0.00036173,\n",
       "        0.000354  , 0.00041475, 0.0003746 ]),\n",
       " 'std_score_time': array([3.70049304e-04, 1.01515932e-05, 4.72649785e-05, 1.72748040e-05,\n",
       "        1.78934057e-05, 2.60040249e-06, 1.31678355e-04, 3.63581376e-05]),\n",
       " 'param_alpha': masked_array(data=[0.0, 0.0, 0.3, 0.3, 0.7, 0.7, 1.0, 1.0],\n",
       "              mask=[False, False, False, False, False, False, False, False],\n",
       "        fill_value='?',\n",
       "             dtype=object),\n",
       " 'param_fit_prior': masked_array(data=[True, False, True, False, True, False, True, False],\n",
       "              mask=[False, False, False, False, False, False, False, False],\n",
       "        fill_value='?',\n",
       "             dtype=object),\n",
       " 'params': [{'alpha': 0.0, 'fit_prior': True},\n",
       "  {'alpha': 0.0, 'fit_prior': False},\n",
       "  {'alpha': 0.3, 'fit_prior': True},\n",
       "  {'alpha': 0.3, 'fit_prior': False},\n",
       "  {'alpha': 0.7, 'fit_prior': True},\n",
       "  {'alpha': 0.7, 'fit_prior': False},\n",
       "  {'alpha': 1.0, 'fit_prior': True},\n",
       "  {'alpha': 1.0, 'fit_prior': False}],\n",
       " 'split0_test_score': array([0.73333333, 0.73333333, 0.66666667, 0.66666667, 0.66666667,\n",
       "        0.66666667, 0.66666667, 0.66666667]),\n",
       " 'split1_test_score': array([0.93333333, 0.93333333, 0.66666667, 0.66666667, 0.66666667,\n",
       "        0.66666667, 0.66666667, 0.66666667]),\n",
       " 'split2_test_score': array([0.92307692, 0.92307692, 0.69230769, 0.69230769, 0.69230769,\n",
       "        0.69230769, 0.69230769, 0.69230769]),\n",
       " 'split3_test_score': array([0.84615385, 0.84615385, 0.76923077, 0.84615385, 0.69230769,\n",
       "        0.76923077, 0.69230769, 0.69230769]),\n",
       " 'split4_test_score': array([0.84615385, 0.84615385, 0.69230769, 0.69230769, 0.69230769,\n",
       "        0.69230769, 0.69230769, 0.69230769]),\n",
       " 'mean_test_score': array([0.85507246, 0.85507246, 0.69565217, 0.71014493, 0.68115942,\n",
       "        0.69565217, 0.68115942, 0.68115942]),\n",
       " 'std_test_score': array([0.07385509, 0.07385509, 0.03727593, 0.06653567, 0.01271099,\n",
       "        0.03727593, 0.01271099, 0.01271099]),\n",
       " 'rank_test_score': array([1, 1, 4, 3, 6, 4, 6, 6], dtype=int32),\n",
       " 'split0_train_score': array([1.        , 1.        , 0.87037037, 0.92592593, 0.74074074,\n",
       "        0.85185185, 0.68518519, 0.83333333]),\n",
       " 'split1_train_score': array([1.        , 1.        , 0.87037037, 0.92592593, 0.72222222,\n",
       "        0.81481481, 0.68518519, 0.81481481]),\n",
       " 'split2_train_score': array([1.        , 1.        , 0.875     , 0.98214286, 0.73214286,\n",
       "        0.82142857, 0.67857143, 0.78571429]),\n",
       " 'split3_train_score': array([1.        , 1.        , 0.875     , 0.94642857, 0.71428571,\n",
       "        0.80357143, 0.67857143, 0.80357143]),\n",
       " 'split4_train_score': array([1.        , 1.        , 0.89285714, 0.96428571, 0.73214286,\n",
       "        0.85714286, 0.67857143, 0.82142857]),\n",
       " 'mean_train_score': array([1.        , 1.        , 0.87671958, 0.9489418 , 0.72830688,\n",
       "        0.8297619 , 0.68121693, 0.81177249]),\n",
       " 'std_train_score': array([0.        , 0.        , 0.00833018, 0.02192498, 0.00913944,\n",
       "        0.02105461, 0.00324007, 0.01620897])}"
      ]
     },
     "execution_count": 32,
     "metadata": {},
     "output_type": "execute_result"
    }
   ],
   "source": [
    "m_clf.cv_results_"
   ]
  },
  {
   "cell_type": "code",
   "execution_count": 33,
   "metadata": {},
   "outputs": [
    {
     "data": {
      "text/plain": [
       "[mean: 0.85507, std: 0.07172, params: {'alpha': 0.0, 'fit_prior': True},\n",
       " mean: 0.85507, std: 0.07172, params: {'alpha': 0.0, 'fit_prior': False},\n",
       " mean: 0.69565, std: 0.03768, params: {'alpha': 0.3, 'fit_prior': True},\n",
       " mean: 0.71014, std: 0.06765, params: {'alpha': 0.3, 'fit_prior': False},\n",
       " mean: 0.68116, std: 0.01256, params: {'alpha': 0.7, 'fit_prior': True},\n",
       " mean: 0.69565, std: 0.03768, params: {'alpha': 0.7, 'fit_prior': False},\n",
       " mean: 0.68116, std: 0.01256, params: {'alpha': 1.0, 'fit_prior': True},\n",
       " mean: 0.68116, std: 0.01256, params: {'alpha': 1.0, 'fit_prior': False}]"
      ]
     },
     "execution_count": 33,
     "metadata": {},
     "output_type": "execute_result"
    }
   ],
   "source": [
    "m_clf.grid_scores_"
   ]
  },
  {
   "cell_type": "markdown",
   "metadata": {},
   "source": [
    "## Bernoulli NB CV Results"
   ]
  },
  {
   "cell_type": "code",
   "execution_count": 34,
   "metadata": {},
   "outputs": [
    {
     "data": {
      "text/plain": [
       "{'mean_fit_time': array([0.00194736, 0.00164409, 0.00154309, 0.00154443, 0.00222793,\n",
       "        0.00183153, 0.00164442, 0.0016171 ]),\n",
       " 'std_fit_time': array([1.67411095e-04, 4.74126742e-05, 3.45377601e-05, 4.39167799e-05,\n",
       "        2.90724710e-04, 1.67695365e-04, 2.50298179e-05, 4.18098369e-05]),\n",
       " 'mean_score_time': array([0.00186968, 0.00054607, 0.00052748, 0.0004982 , 0.0009541 ,\n",
       "        0.00055232, 0.00054879, 0.00054922]),\n",
       " 'std_score_time': array([2.51799793e-03, 3.22553464e-05, 3.72377765e-05, 3.72604839e-06,\n",
       "        3.07716263e-04, 1.65226656e-05, 2.23643236e-05, 2.45678054e-05]),\n",
       " 'param_alpha': masked_array(data=[0.0, 0.0, 0.3, 0.3, 0.7, 0.7, 1.0, 1.0],\n",
       "              mask=[False, False, False, False, False, False, False, False],\n",
       "        fill_value='?',\n",
       "             dtype=object),\n",
       " 'param_fit_prior': masked_array(data=[True, False, True, False, True, False, True, False],\n",
       "              mask=[False, False, False, False, False, False, False, False],\n",
       "        fill_value='?',\n",
       "             dtype=object),\n",
       " 'params': [{'alpha': 0.0, 'fit_prior': True},\n",
       "  {'alpha': 0.0, 'fit_prior': False},\n",
       "  {'alpha': 0.3, 'fit_prior': True},\n",
       "  {'alpha': 0.3, 'fit_prior': False},\n",
       "  {'alpha': 0.7, 'fit_prior': True},\n",
       "  {'alpha': 0.7, 'fit_prior': False},\n",
       "  {'alpha': 1.0, 'fit_prior': True},\n",
       "  {'alpha': 1.0, 'fit_prior': False}],\n",
       " 'split0_test_score': array([0.73333333, 0.73333333, 0.93333333, 0.93333333, 1.        ,\n",
       "        1.        , 0.86666667, 0.86666667]),\n",
       " 'split1_test_score': array([0.93333333, 0.93333333, 1.        , 1.        , 0.86666667,\n",
       "        0.86666667, 0.66666667, 0.66666667]),\n",
       " 'split2_test_score': array([1.        , 1.        , 0.92307692, 0.92307692, 0.84615385,\n",
       "        0.84615385, 0.69230769, 0.69230769]),\n",
       " 'split3_test_score': array([0.84615385, 0.84615385, 1.        , 1.        , 1.        ,\n",
       "        1.        , 0.76923077, 0.76923077]),\n",
       " 'split4_test_score': array([0.84615385, 0.84615385, 0.84615385, 0.84615385, 1.        ,\n",
       "        1.        , 0.84615385, 0.84615385]),\n",
       " 'mean_test_score': array([0.86956522, 0.86956522, 0.94202899, 0.94202899, 0.94202899,\n",
       "        0.94202899, 0.76811594, 0.76811594]),\n",
       " 'std_test_score': array([0.0912716 , 0.0912716 , 0.05638866, 0.05638866, 0.07045143,\n",
       "        0.07045143, 0.08111163, 0.08111163]),\n",
       " 'rank_test_score': array([5, 5, 1, 1, 1, 1, 7, 7], dtype=int32),\n",
       " 'split0_train_score': array([1.        , 1.        , 1.        , 1.        , 1.        ,\n",
       "        1.        , 0.96296296, 0.98148148]),\n",
       " 'split1_train_score': array([1.        , 1.        , 1.        , 1.        , 0.98148148,\n",
       "        0.98148148, 0.88888889, 0.88888889]),\n",
       " 'split2_train_score': array([1.        , 1.        , 1.        , 1.        , 1.        ,\n",
       "        1.        , 0.96428571, 0.96428571]),\n",
       " 'split3_train_score': array([1.        , 1.        , 1.        , 1.        , 1.        ,\n",
       "        1.        , 0.94642857, 0.94642857]),\n",
       " 'split4_train_score': array([1., 1., 1., 1., 1., 1., 1., 1.]),\n",
       " 'mean_train_score': array([1.        , 1.        , 1.        , 1.        , 0.9962963 ,\n",
       "        0.9962963 , 0.95251323, 0.95621693]),\n",
       " 'std_train_score': array([0.        , 0.        , 0.        , 0.        , 0.00740741,\n",
       "        0.00740741, 0.03629838, 0.03807686])}"
      ]
     },
     "execution_count": 34,
     "metadata": {},
     "output_type": "execute_result"
    }
   ],
   "source": [
    "b_clf.cv_results_"
   ]
  },
  {
   "cell_type": "code",
   "execution_count": 35,
   "metadata": {},
   "outputs": [
    {
     "data": {
      "text/plain": [
       "[mean: 0.86957, std: 0.09023, params: {'alpha': 0.0, 'fit_prior': True},\n",
       " mean: 0.86957, std: 0.09023, params: {'alpha': 0.0, 'fit_prior': False},\n",
       " mean: 0.94203, std: 0.05716, params: {'alpha': 0.3, 'fit_prior': True},\n",
       " mean: 0.94203, std: 0.05716, params: {'alpha': 0.3, 'fit_prior': False},\n",
       " mean: 0.94203, std: 0.07064, params: {'alpha': 0.7, 'fit_prior': True},\n",
       " mean: 0.94203, std: 0.07064, params: {'alpha': 0.7, 'fit_prior': False},\n",
       " mean: 0.76812, std: 0.07980, params: {'alpha': 1.0, 'fit_prior': True},\n",
       " mean: 0.76812, std: 0.07980, params: {'alpha': 1.0, 'fit_prior': False}]"
      ]
     },
     "execution_count": 35,
     "metadata": {},
     "output_type": "execute_result"
    }
   ],
   "source": [
    "b_clf.grid_scores_"
   ]
  },
  {
   "cell_type": "markdown",
   "metadata": {},
   "source": [
    "## Bernoulli Scores Better: New Grid Search with Binarize Parameter"
   ]
  },
  {
   "cell_type": "code",
   "execution_count": 36,
   "metadata": {},
   "outputs": [
    {
     "data": {
      "text/plain": [
       "[mean: 0.86957, std: 0.09023, params: {'alpha': 0.0, 'binarize': 0.0, 'fit_prior': True},\n",
       " mean: 0.86957, std: 0.09023, params: {'alpha': 0.0, 'binarize': 0.0, 'fit_prior': False},\n",
       " mean: 0.68116, std: 0.01256, params: {'alpha': 0.0, 'binarize': 1.0, 'fit_prior': True},\n",
       " mean: 0.68116, std: 0.01256, params: {'alpha': 0.0, 'binarize': 1.0, 'fit_prior': False},\n",
       " mean: 0.68116, std: 0.01256, params: {'alpha': 0.0, 'binarize': 5.0, 'fit_prior': True},\n",
       " mean: 0.68116, std: 0.01256, params: {'alpha': 0.0, 'binarize': 5.0, 'fit_prior': False},\n",
       " mean: 0.68116, std: 0.01256, params: {'alpha': 0.0, 'binarize': 10.0, 'fit_prior': True},\n",
       " mean: 0.68116, std: 0.01256, params: {'alpha': 0.0, 'binarize': 10.0, 'fit_prior': False},\n",
       " mean: 0.94203, std: 0.05716, params: {'alpha': 0.3, 'binarize': 0.0, 'fit_prior': True},\n",
       " mean: 0.94203, std: 0.05716, params: {'alpha': 0.3, 'binarize': 0.0, 'fit_prior': False},\n",
       " mean: 0.68116, std: 0.01256, params: {'alpha': 0.3, 'binarize': 1.0, 'fit_prior': True},\n",
       " mean: 0.68116, std: 0.01256, params: {'alpha': 0.3, 'binarize': 1.0, 'fit_prior': False},\n",
       " mean: 0.68116, std: 0.01256, params: {'alpha': 0.3, 'binarize': 5.0, 'fit_prior': True},\n",
       " mean: 0.68116, std: 0.01256, params: {'alpha': 0.3, 'binarize': 5.0, 'fit_prior': False},\n",
       " mean: 0.68116, std: 0.01256, params: {'alpha': 0.3, 'binarize': 10.0, 'fit_prior': True},\n",
       " mean: 0.68116, std: 0.01256, params: {'alpha': 0.3, 'binarize': 10.0, 'fit_prior': False},\n",
       " mean: 0.94203, std: 0.07064, params: {'alpha': 0.7, 'binarize': 0.0, 'fit_prior': True},\n",
       " mean: 0.94203, std: 0.07064, params: {'alpha': 0.7, 'binarize': 0.0, 'fit_prior': False},\n",
       " mean: 0.68116, std: 0.01256, params: {'alpha': 0.7, 'binarize': 1.0, 'fit_prior': True},\n",
       " mean: 0.68116, std: 0.01256, params: {'alpha': 0.7, 'binarize': 1.0, 'fit_prior': False},\n",
       " mean: 0.68116, std: 0.01256, params: {'alpha': 0.7, 'binarize': 5.0, 'fit_prior': True},\n",
       " mean: 0.68116, std: 0.01256, params: {'alpha': 0.7, 'binarize': 5.0, 'fit_prior': False},\n",
       " mean: 0.68116, std: 0.01256, params: {'alpha': 0.7, 'binarize': 10.0, 'fit_prior': True},\n",
       " mean: 0.68116, std: 0.01256, params: {'alpha': 0.7, 'binarize': 10.0, 'fit_prior': False},\n",
       " mean: 0.76812, std: 0.07980, params: {'alpha': 1.0, 'binarize': 0.0, 'fit_prior': True},\n",
       " mean: 0.76812, std: 0.07980, params: {'alpha': 1.0, 'binarize': 0.0, 'fit_prior': False},\n",
       " mean: 0.68116, std: 0.01256, params: {'alpha': 1.0, 'binarize': 1.0, 'fit_prior': True},\n",
       " mean: 0.68116, std: 0.01256, params: {'alpha': 1.0, 'binarize': 1.0, 'fit_prior': False},\n",
       " mean: 0.68116, std: 0.01256, params: {'alpha': 1.0, 'binarize': 5.0, 'fit_prior': True},\n",
       " mean: 0.68116, std: 0.01256, params: {'alpha': 1.0, 'binarize': 5.0, 'fit_prior': False},\n",
       " mean: 0.68116, std: 0.01256, params: {'alpha': 1.0, 'binarize': 10.0, 'fit_prior': True},\n",
       " mean: 0.68116, std: 0.01256, params: {'alpha': 1.0, 'binarize': 10.0, 'fit_prior': False}]"
      ]
     },
     "execution_count": 36,
     "metadata": {},
     "output_type": "execute_result"
    }
   ],
   "source": [
    "parameters = {\n",
    "    'alpha': [0.0, 0.3, 0.7, 1.0],\n",
    "    'fit_prior': [True, False],\n",
    "    'binarize': [0.0, 1.0, 5.0, 10.0]\n",
    "}\n",
    "b_clf = GridSearchCV(bnb, parameters, cv=5)\n",
    "b_clf.fit(matrix, y_train)\n",
    "b_clf.grid_scores_"
   ]
  },
  {
   "cell_type": "code",
   "execution_count": 37,
   "metadata": {},
   "outputs": [],
   "source": [
    "model = b_clf.best_estimator_"
   ]
  },
  {
   "cell_type": "code",
   "execution_count": 38,
   "metadata": {},
   "outputs": [],
   "source": [
    "test_matrix = vectorizer.transform(X_test)\n",
    "predictions = model.predict(test_matrix)\n",
    "probas = model.predict_proba(test_matrix)"
   ]
  },
  {
   "cell_type": "code",
   "execution_count": 39,
   "metadata": {},
   "outputs": [
    {
     "name": "stdout",
     "output_type": "stream",
     "text": [
      "[[10  0]\n",
      " [ 2 18]]\n"
     ]
    }
   ],
   "source": [
    "print(confusion_matrix(y_test, predictions))"
   ]
  },
  {
   "cell_type": "code",
   "execution_count": 40,
   "metadata": {},
   "outputs": [
    {
     "name": "stdout",
     "output_type": "stream",
     "text": [
      "             precision    recall  f1-score   support\n",
      "\n",
      "          0       0.83      1.00      0.91        10\n",
      "          1       1.00      0.90      0.95        20\n",
      "\n",
      "avg / total       0.94      0.93      0.93        30\n",
      "\n"
     ]
    }
   ],
   "source": [
    "print(classification_report(y_test, predictions))"
   ]
  },
  {
   "cell_type": "code",
   "execution_count": 41,
   "metadata": {},
   "outputs": [
    {
     "name": "stdout",
     "output_type": "stream",
     "text": [
      "0.9333333333333333\n"
     ]
    }
   ],
   "source": [
    "print(accuracy_score(y_test, predictions))"
   ]
  },
  {
   "cell_type": "code",
   "execution_count": 42,
   "metadata": {},
   "outputs": [
    {
     "name": "stdout",
     "output_type": "stream",
     "text": [
      "[[10  0]\n",
      " [ 0 20]]\n"
     ]
    }
   ],
   "source": [
    "print(confusion_matrix(y_test, probas[:,1:] > 0.00001))"
   ]
  },
  {
   "cell_type": "code",
   "execution_count": 43,
   "metadata": {},
   "outputs": [
    {
     "data": {
      "text/plain": [
       "array([0, 1])"
      ]
     },
     "execution_count": 43,
     "metadata": {},
     "output_type": "execute_result"
    }
   ],
   "source": [
    "model.classes_"
   ]
  },
  {
   "cell_type": "markdown",
   "metadata": {},
   "source": [
    "## Retrain on all data for best model"
   ]
  },
  {
   "cell_type": "code",
   "execution_count": 44,
   "metadata": {},
   "outputs": [
    {
     "data": {
      "text/plain": [
       "BernoulliNB(alpha=0.3, binarize=0.0, class_prior=None, fit_prior=True)"
      ]
     },
     "execution_count": 44,
     "metadata": {},
     "output_type": "execute_result"
    }
   ],
   "source": [
    "b_clf.best_estimator_"
   ]
  },
  {
   "cell_type": "code",
   "execution_count": 45,
   "metadata": {},
   "outputs": [],
   "source": [
    "v = TfidfVectorizer()\n",
    "final_matrix = v.fit_transform(df['text'])"
   ]
  },
  {
   "cell_type": "code",
   "execution_count": 46,
   "metadata": {},
   "outputs": [
    {
     "data": {
      "text/plain": [
       "<99x8305 sparse matrix of type '<class 'numpy.float64'>'\n",
       "\twith 31834 stored elements in Compressed Sparse Row format>"
      ]
     },
     "execution_count": 46,
     "metadata": {},
     "output_type": "execute_result"
    }
   ],
   "source": [
    "final_matrix"
   ]
  },
  {
   "cell_type": "code",
   "execution_count": 47,
   "metadata": {},
   "outputs": [],
   "source": [
    "with open('vectorizer.pkl', 'wb') as f:\n",
    "    pickle.dump(v, f)"
   ]
  },
  {
   "cell_type": "code",
   "execution_count": 48,
   "metadata": {},
   "outputs": [
    {
     "data": {
      "text/plain": [
       "BernoulliNB(alpha=0.3, binarize=0.0, class_prior=None, fit_prior=True)"
      ]
     },
     "execution_count": 48,
     "metadata": {},
     "output_type": "execute_result"
    }
   ],
   "source": [
    "final_model = BernoulliNB(alpha=0.3, binarize=0.0, class_prior=None, fit_prior=True)\n",
    "final_model.fit(final_matrix, df['label'])"
   ]
  },
  {
   "cell_type": "code",
   "execution_count": 49,
   "metadata": {},
   "outputs": [
    {
     "data": {
      "text/plain": [
       "{'fit_time': array([0.00372672, 0.00273514, 0.00274014, 0.00219679, 0.00240397]),\n",
       " 'score_time': array([0.00104427, 0.00080895, 0.00082588, 0.00067616, 0.00089407]),\n",
       " 'test_score': array([0.95238095, 0.85714286, 1.        , 1.        , 0.94736842]),\n",
       " 'train_score': array([1.        , 0.98717949, 1.        , 1.        , 1.        ])}"
      ]
     },
     "execution_count": 49,
     "metadata": {},
     "output_type": "execute_result"
    }
   ],
   "source": [
    "cross_validate(final_model, final_matrix, df['label'], cv=5)"
   ]
  },
  {
   "cell_type": "markdown",
   "metadata": {},
   "source": [
    "## Save Model"
   ]
  },
  {
   "cell_type": "code",
   "execution_count": 50,
   "metadata": {},
   "outputs": [],
   "source": [
    "with open('bnb_classifier.pkl', 'wb') as f:\n",
    "    pickle.dump(final_model, f)"
   ]
  },
  {
   "cell_type": "code",
   "execution_count": null,
   "metadata": {},
   "outputs": [],
   "source": []
  }
 ],
 "metadata": {
  "kernelspec": {
   "display_name": "Python 3",
   "language": "python",
   "name": "python3"
  },
  "language_info": {
   "codemirror_mode": {
    "name": "ipython",
    "version": 3
   },
   "file_extension": ".py",
   "mimetype": "text/x-python",
   "name": "python",
   "nbconvert_exporter": "python",
   "pygments_lexer": "ipython3",
   "version": "3.6.8"
  }
 },
 "nbformat": 4,
 "nbformat_minor": 2
}
