{
 "cells": [
  {
   "cell_type": "code",
   "execution_count": 88,
   "metadata": {},
   "outputs": [],
   "source": [
    "import pandas as pd\n",
    "import json\n",
    "from sklearn.naive_bayes import MultinomialNB\n",
    "from sklearn.feature_extraction.text import TfidfVectorizer\n",
    "from sklearn.model_selection import train_test_split\n",
    "from sklearn.model_selection import cross_validate, cross_val_score, GridSearchCV\n",
    "from sklearn.metrics import confusion_matrix, classification_report, accuracy_score"
   ]
  },
  {
   "cell_type": "code",
   "execution_count": 2,
   "metadata": {},
   "outputs": [],
   "source": [
    "with open('../data/100_articles.json', 'r') as f:\n",
    "    file = json.load(f)"
   ]
  },
  {
   "cell_type": "code",
   "execution_count": 38,
   "metadata": {},
   "outputs": [],
   "source": [
    "df = pd.DataFrame(file['webscrape'])"
   ]
  },
  {
   "cell_type": "code",
   "execution_count": 39,
   "metadata": {},
   "outputs": [
    {
     "name": "stdout",
     "output_type": "stream",
     "text": [
      "<class 'pandas.core.frame.DataFrame'>\n",
      "RangeIndex: 99 entries, 0 to 98\n",
      "Data columns (total 3 columns):\n",
      "isCycling    99 non-null object\n",
      "isRacing     99 non-null object\n",
      "text         99 non-null object\n",
      "dtypes: object(3)\n",
      "memory usage: 2.4+ KB\n"
     ]
    }
   ],
   "source": [
    "df.info()"
   ]
  },
  {
   "cell_type": "code",
   "execution_count": 47,
   "metadata": {},
   "outputs": [
    {
     "data": {
      "text/html": [
       "<div>\n",
       "<style scoped>\n",
       "    .dataframe tbody tr th:only-of-type {\n",
       "        vertical-align: middle;\n",
       "    }\n",
       "\n",
       "    .dataframe tbody tr th {\n",
       "        vertical-align: top;\n",
       "    }\n",
       "\n",
       "    .dataframe thead th {\n",
       "        text-align: right;\n",
       "    }\n",
       "</style>\n",
       "<table border=\"1\" class=\"dataframe\">\n",
       "  <thead>\n",
       "    <tr style=\"text-align: right;\">\n",
       "      <th></th>\n",
       "      <th>isCycling</th>\n",
       "      <th>isRacing</th>\n",
       "      <th>text</th>\n",
       "      <th>c_label</th>\n",
       "      <th>r_label</th>\n",
       "      <th>label</th>\n",
       "    </tr>\n",
       "  </thead>\n",
       "  <tbody>\n",
       "    <tr>\n",
       "      <th>49</th>\n",
       "      <td>Y</td>\n",
       "      <td>N</td>\n",
       "      <td>Biking events, from Bike New York to moonlight...</td>\n",
       "      <td>1</td>\n",
       "      <td>0</td>\n",
       "      <td>0</td>\n",
       "    </tr>\n",
       "    <tr>\n",
       "      <th>51</th>\n",
       "      <td>Y</td>\n",
       "      <td>N</td>\n",
       "      <td>No sideswiping taxis, no fume-belching buses, ...</td>\n",
       "      <td>1</td>\n",
       "      <td>0</td>\n",
       "      <td>0</td>\n",
       "    </tr>\n",
       "    <tr>\n",
       "      <th>85</th>\n",
       "      <td>Y</td>\n",
       "      <td>N</td>\n",
       "      <td>To the Editor: I'm heartened to read that Mayo...</td>\n",
       "      <td>1</td>\n",
       "      <td>0</td>\n",
       "      <td>0</td>\n",
       "    </tr>\n",
       "    <tr>\n",
       "      <th>92</th>\n",
       "      <td>Y</td>\n",
       "      <td>N</td>\n",
       "      <td>For decades the bicycle industry has drawn its...</td>\n",
       "      <td>1</td>\n",
       "      <td>0</td>\n",
       "      <td>0</td>\n",
       "    </tr>\n",
       "    <tr>\n",
       "      <th>96</th>\n",
       "      <td>Y</td>\n",
       "      <td>N</td>\n",
       "      <td>To the Editor: You report that some New Yorker...</td>\n",
       "      <td>1</td>\n",
       "      <td>0</td>\n",
       "      <td>0</td>\n",
       "    </tr>\n",
       "  </tbody>\n",
       "</table>\n",
       "</div>"
      ],
      "text/plain": [
       "   isCycling isRacing                                               text  \\\n",
       "49         Y        N  Biking events, from Bike New York to moonlight...   \n",
       "51         Y        N  No sideswiping taxis, no fume-belching buses, ...   \n",
       "85         Y        N  To the Editor: I'm heartened to read that Mayo...   \n",
       "92         Y        N  For decades the bicycle industry has drawn its...   \n",
       "96         Y        N  To the Editor: You report that some New Yorker...   \n",
       "\n",
       "    c_label  r_label  label  \n",
       "49        1        0      0  \n",
       "51        1        0      0  \n",
       "85        1        0      0  \n",
       "92        1        0      0  \n",
       "96        1        0      0  "
      ]
     },
     "execution_count": 47,
     "metadata": {},
     "output_type": "execute_result"
    }
   ],
   "source": [
    "df[(df['isCycling']=='Y')&(df['isRacing']=='N')]"
   ]
  },
  {
   "cell_type": "code",
   "execution_count": 40,
   "metadata": {},
   "outputs": [],
   "source": [
    "df['c_label'] = [1 if x == 'Y' else 0 for x in df['isCycling']]\n",
    "df['r_label'] = [1 if x == 'Y' else 0 for x in df['isRacing'] ]"
   ]
  },
  {
   "cell_type": "code",
   "execution_count": 46,
   "metadata": {},
   "outputs": [],
   "source": [
    "df['label']  = (df['c_label'] + df['r_label']) // 2"
   ]
  },
  {
   "cell_type": "code",
   "execution_count": 49,
   "metadata": {},
   "outputs": [
    {
     "data": {
      "text/html": [
       "<div>\n",
       "<style scoped>\n",
       "    .dataframe tbody tr th:only-of-type {\n",
       "        vertical-align: middle;\n",
       "    }\n",
       "\n",
       "    .dataframe tbody tr th {\n",
       "        vertical-align: top;\n",
       "    }\n",
       "\n",
       "    .dataframe thead th {\n",
       "        text-align: right;\n",
       "    }\n",
       "</style>\n",
       "<table border=\"1\" class=\"dataframe\">\n",
       "  <thead>\n",
       "    <tr style=\"text-align: right;\">\n",
       "      <th></th>\n",
       "      <th>isCycling</th>\n",
       "      <th>isRacing</th>\n",
       "      <th>text</th>\n",
       "      <th>c_label</th>\n",
       "      <th>r_label</th>\n",
       "      <th>label</th>\n",
       "    </tr>\n",
       "  </thead>\n",
       "  <tbody>\n",
       "    <tr>\n",
       "      <th>49</th>\n",
       "      <td>Y</td>\n",
       "      <td>N</td>\n",
       "      <td>Biking events, from Bike New York to moonlight...</td>\n",
       "      <td>1</td>\n",
       "      <td>0</td>\n",
       "      <td>0</td>\n",
       "    </tr>\n",
       "    <tr>\n",
       "      <th>51</th>\n",
       "      <td>Y</td>\n",
       "      <td>N</td>\n",
       "      <td>No sideswiping taxis, no fume-belching buses, ...</td>\n",
       "      <td>1</td>\n",
       "      <td>0</td>\n",
       "      <td>0</td>\n",
       "    </tr>\n",
       "    <tr>\n",
       "      <th>85</th>\n",
       "      <td>Y</td>\n",
       "      <td>N</td>\n",
       "      <td>To the Editor: I'm heartened to read that Mayo...</td>\n",
       "      <td>1</td>\n",
       "      <td>0</td>\n",
       "      <td>0</td>\n",
       "    </tr>\n",
       "    <tr>\n",
       "      <th>92</th>\n",
       "      <td>Y</td>\n",
       "      <td>N</td>\n",
       "      <td>For decades the bicycle industry has drawn its...</td>\n",
       "      <td>1</td>\n",
       "      <td>0</td>\n",
       "      <td>0</td>\n",
       "    </tr>\n",
       "    <tr>\n",
       "      <th>96</th>\n",
       "      <td>Y</td>\n",
       "      <td>N</td>\n",
       "      <td>To the Editor: You report that some New Yorker...</td>\n",
       "      <td>1</td>\n",
       "      <td>0</td>\n",
       "      <td>0</td>\n",
       "    </tr>\n",
       "  </tbody>\n",
       "</table>\n",
       "</div>"
      ],
      "text/plain": [
       "   isCycling isRacing                                               text  \\\n",
       "49         Y        N  Biking events, from Bike New York to moonlight...   \n",
       "51         Y        N  No sideswiping taxis, no fume-belching buses, ...   \n",
       "85         Y        N  To the Editor: I'm heartened to read that Mayo...   \n",
       "92         Y        N  For decades the bicycle industry has drawn its...   \n",
       "96         Y        N  To the Editor: You report that some New Yorker...   \n",
       "\n",
       "    c_label  r_label  label  \n",
       "49        1        0      0  \n",
       "51        1        0      0  \n",
       "85        1        0      0  \n",
       "92        1        0      0  \n",
       "96        1        0      0  "
      ]
     },
     "execution_count": 49,
     "metadata": {},
     "output_type": "execute_result"
    }
   ],
   "source": [
    "df[(df['isCycling']=='Y')&(df['isRacing']=='N')]"
   ]
  },
  {
   "cell_type": "code",
   "execution_count": 50,
   "metadata": {},
   "outputs": [],
   "source": [
    "X = df['text']\n",
    "y = df['label']\n",
    "X_train, X_test, y_train, y_test = train_test_split(X, y, test_size=0.3, random_state=42)"
   ]
  },
  {
   "cell_type": "code",
   "execution_count": 54,
   "metadata": {},
   "outputs": [],
   "source": [
    "vectorizer = TfidfVectorizer()"
   ]
  },
  {
   "cell_type": "code",
   "execution_count": 55,
   "metadata": {},
   "outputs": [],
   "source": [
    "matrix = vectorizer.fit_transform(X_train)"
   ]
  },
  {
   "cell_type": "code",
   "execution_count": 56,
   "metadata": {},
   "outputs": [
    {
     "data": {
      "text/plain": [
       "<69x6862 sparse matrix of type '<class 'numpy.float64'>'\n",
       "\twith 23359 stored elements in Compressed Sparse Row format>"
      ]
     },
     "execution_count": 56,
     "metadata": {},
     "output_type": "execute_result"
    }
   ],
   "source": [
    "matrix"
   ]
  },
  {
   "cell_type": "code",
   "execution_count": 72,
   "metadata": {},
   "outputs": [],
   "source": [
    "mnb = MultinomialNB()"
   ]
  },
  {
   "cell_type": "code",
   "execution_count": 66,
   "metadata": {},
   "outputs": [],
   "source": [
    "# cv_results = cross_validate(clf, matrix, y_train, return_train_score=True)"
   ]
  },
  {
   "cell_type": "code",
   "execution_count": 67,
   "metadata": {},
   "outputs": [
    {
     "data": {
      "text/plain": [
       "{'fit_time': array([0.00264978, 0.00269008, 0.00276208]),\n",
       " 'score_time': array([0.00113893, 0.00110984, 0.00072694]),\n",
       " 'test_score': array([0.70833333, 0.73913043, 0.72727273]),\n",
       " 'train_score': array([0.84444444, 0.91304348, 0.87234043])}"
      ]
     },
     "execution_count": 67,
     "metadata": {},
     "output_type": "execute_result"
    }
   ],
   "source": [
    "# cv_results"
   ]
  },
  {
   "cell_type": "code",
   "execution_count": 71,
   "metadata": {},
   "outputs": [],
   "source": [
    "parameters = {\n",
    "    'alpha': [0.0, 0.3, 0.7, 1.0],\n",
    "    'fit_prior': [True, False]\n",
    "}"
   ]
  },
  {
   "cell_type": "code",
   "execution_count": 73,
   "metadata": {},
   "outputs": [],
   "source": [
    "clf = GridSearchCV(mnb, parameters, cv=5)"
   ]
  },
  {
   "cell_type": "code",
   "execution_count": 76,
   "metadata": {},
   "outputs": [
    {
     "name": "stderr",
     "output_type": "stream",
     "text": [
      "/Users/jeremymiller/anaconda3/lib/python3.6/site-packages/sklearn/naive_bayes.py:472: UserWarning: alpha too small will result in numeric errors, setting alpha = 1.0e-10\n",
      "  'setting alpha = %.1e' % _ALPHA_MIN)\n",
      "/Users/jeremymiller/anaconda3/lib/python3.6/site-packages/sklearn/naive_bayes.py:472: UserWarning: alpha too small will result in numeric errors, setting alpha = 1.0e-10\n",
      "  'setting alpha = %.1e' % _ALPHA_MIN)\n",
      "/Users/jeremymiller/anaconda3/lib/python3.6/site-packages/sklearn/naive_bayes.py:472: UserWarning: alpha too small will result in numeric errors, setting alpha = 1.0e-10\n",
      "  'setting alpha = %.1e' % _ALPHA_MIN)\n",
      "/Users/jeremymiller/anaconda3/lib/python3.6/site-packages/sklearn/naive_bayes.py:472: UserWarning: alpha too small will result in numeric errors, setting alpha = 1.0e-10\n",
      "  'setting alpha = %.1e' % _ALPHA_MIN)\n",
      "/Users/jeremymiller/anaconda3/lib/python3.6/site-packages/sklearn/naive_bayes.py:472: UserWarning: alpha too small will result in numeric errors, setting alpha = 1.0e-10\n",
      "  'setting alpha = %.1e' % _ALPHA_MIN)\n",
      "/Users/jeremymiller/anaconda3/lib/python3.6/site-packages/sklearn/naive_bayes.py:472: UserWarning: alpha too small will result in numeric errors, setting alpha = 1.0e-10\n",
      "  'setting alpha = %.1e' % _ALPHA_MIN)\n",
      "/Users/jeremymiller/anaconda3/lib/python3.6/site-packages/sklearn/naive_bayes.py:472: UserWarning: alpha too small will result in numeric errors, setting alpha = 1.0e-10\n",
      "  'setting alpha = %.1e' % _ALPHA_MIN)\n",
      "/Users/jeremymiller/anaconda3/lib/python3.6/site-packages/sklearn/naive_bayes.py:472: UserWarning: alpha too small will result in numeric errors, setting alpha = 1.0e-10\n",
      "  'setting alpha = %.1e' % _ALPHA_MIN)\n",
      "/Users/jeremymiller/anaconda3/lib/python3.6/site-packages/sklearn/naive_bayes.py:472: UserWarning: alpha too small will result in numeric errors, setting alpha = 1.0e-10\n",
      "  'setting alpha = %.1e' % _ALPHA_MIN)\n",
      "/Users/jeremymiller/anaconda3/lib/python3.6/site-packages/sklearn/naive_bayes.py:472: UserWarning: alpha too small will result in numeric errors, setting alpha = 1.0e-10\n",
      "  'setting alpha = %.1e' % _ALPHA_MIN)\n",
      "/Users/jeremymiller/anaconda3/lib/python3.6/site-packages/sklearn/naive_bayes.py:472: UserWarning: alpha too small will result in numeric errors, setting alpha = 1.0e-10\n",
      "  'setting alpha = %.1e' % _ALPHA_MIN)\n"
     ]
    },
    {
     "data": {
      "text/plain": [
       "GridSearchCV(cv=5, error_score='raise',\n",
       "       estimator=MultinomialNB(alpha=1.0, class_prior=None, fit_prior=True),\n",
       "       fit_params=None, iid=True, n_jobs=1,\n",
       "       param_grid={'alpha': [0.0, 0.3, 0.7, 1.0], 'fit_prior': [True, False]},\n",
       "       pre_dispatch='2*n_jobs', refit=True, return_train_score='warn',\n",
       "       scoring=None, verbose=0)"
      ]
     },
     "execution_count": 76,
     "metadata": {},
     "output_type": "execute_result"
    }
   ],
   "source": [
    "clf.fit(matrix, y_train)"
   ]
  },
  {
   "cell_type": "code",
   "execution_count": 77,
   "metadata": {},
   "outputs": [
    {
     "data": {
      "text/plain": [
       "[mean: 0.85507, std: 0.07172, params: {'alpha': 0.0, 'fit_prior': True},\n",
       " mean: 0.85507, std: 0.07172, params: {'alpha': 0.0, 'fit_prior': False},\n",
       " mean: 0.69565, std: 0.03768, params: {'alpha': 0.3, 'fit_prior': True},\n",
       " mean: 0.71014, std: 0.06765, params: {'alpha': 0.3, 'fit_prior': False},\n",
       " mean: 0.68116, std: 0.01256, params: {'alpha': 0.7, 'fit_prior': True},\n",
       " mean: 0.69565, std: 0.03768, params: {'alpha': 0.7, 'fit_prior': False},\n",
       " mean: 0.68116, std: 0.01256, params: {'alpha': 1.0, 'fit_prior': True},\n",
       " mean: 0.68116, std: 0.01256, params: {'alpha': 1.0, 'fit_prior': False}]"
      ]
     },
     "execution_count": 77,
     "metadata": {},
     "output_type": "execute_result"
    }
   ],
   "source": [
    "clf.grid_scores_"
   ]
  },
  {
   "cell_type": "code",
   "execution_count": 78,
   "metadata": {},
   "outputs": [
    {
     "name": "stderr",
     "output_type": "stream",
     "text": [
      "/Users/jeremymiller/anaconda3/lib/python3.6/site-packages/sklearn/utils/deprecation.py:122: FutureWarning: You are accessing a training score ('split0_train_score'), which will not be available by default any more in 0.21. If you need training scores, please set return_train_score=True\n",
      "  warnings.warn(*warn_args, **warn_kwargs)\n",
      "/Users/jeremymiller/anaconda3/lib/python3.6/site-packages/sklearn/utils/deprecation.py:122: FutureWarning: You are accessing a training score ('split1_train_score'), which will not be available by default any more in 0.21. If you need training scores, please set return_train_score=True\n",
      "  warnings.warn(*warn_args, **warn_kwargs)\n",
      "/Users/jeremymiller/anaconda3/lib/python3.6/site-packages/sklearn/utils/deprecation.py:122: FutureWarning: You are accessing a training score ('split2_train_score'), which will not be available by default any more in 0.21. If you need training scores, please set return_train_score=True\n",
      "  warnings.warn(*warn_args, **warn_kwargs)\n",
      "/Users/jeremymiller/anaconda3/lib/python3.6/site-packages/sklearn/utils/deprecation.py:122: FutureWarning: You are accessing a training score ('split3_train_score'), which will not be available by default any more in 0.21. If you need training scores, please set return_train_score=True\n",
      "  warnings.warn(*warn_args, **warn_kwargs)\n",
      "/Users/jeremymiller/anaconda3/lib/python3.6/site-packages/sklearn/utils/deprecation.py:122: FutureWarning: You are accessing a training score ('split4_train_score'), which will not be available by default any more in 0.21. If you need training scores, please set return_train_score=True\n",
      "  warnings.warn(*warn_args, **warn_kwargs)\n",
      "/Users/jeremymiller/anaconda3/lib/python3.6/site-packages/sklearn/utils/deprecation.py:122: FutureWarning: You are accessing a training score ('mean_train_score'), which will not be available by default any more in 0.21. If you need training scores, please set return_train_score=True\n",
      "  warnings.warn(*warn_args, **warn_kwargs)\n",
      "/Users/jeremymiller/anaconda3/lib/python3.6/site-packages/sklearn/utils/deprecation.py:122: FutureWarning: You are accessing a training score ('std_train_score'), which will not be available by default any more in 0.21. If you need training scores, please set return_train_score=True\n",
      "  warnings.warn(*warn_args, **warn_kwargs)\n"
     ]
    },
    {
     "data": {
      "text/plain": [
       "{'mean_fit_time': array([0.00334802, 0.00300503, 0.00182881, 0.00181293, 0.00161963,\n",
       "        0.00158157, 0.00168147, 0.00161762]),\n",
       " 'std_fit_time': array([8.31133795e-04, 9.07774962e-04, 1.83101532e-04, 3.00281097e-04,\n",
       "        1.17103906e-04, 6.28869577e-05, 2.15256388e-04, 7.44697522e-05]),\n",
       " 'mean_score_time': array([0.00066032, 0.00063577, 0.00043941, 0.00044284, 0.00035653,\n",
       "        0.00040178, 0.00039964, 0.0003654 ]),\n",
       " 'std_score_time': array([1.28935269e-04, 1.11284599e-04, 9.00790702e-05, 1.60737456e-04,\n",
       "        7.63326785e-06, 6.15630566e-05, 7.11741397e-05, 2.09035316e-05]),\n",
       " 'param_alpha': masked_array(data=[0.0, 0.0, 0.3, 0.3, 0.7, 0.7, 1.0, 1.0],\n",
       "              mask=[False, False, False, False, False, False, False, False],\n",
       "        fill_value='?',\n",
       "             dtype=object),\n",
       " 'param_fit_prior': masked_array(data=[True, False, True, False, True, False, True, False],\n",
       "              mask=[False, False, False, False, False, False, False, False],\n",
       "        fill_value='?',\n",
       "             dtype=object),\n",
       " 'params': [{'alpha': 0.0, 'fit_prior': True},\n",
       "  {'alpha': 0.0, 'fit_prior': False},\n",
       "  {'alpha': 0.3, 'fit_prior': True},\n",
       "  {'alpha': 0.3, 'fit_prior': False},\n",
       "  {'alpha': 0.7, 'fit_prior': True},\n",
       "  {'alpha': 0.7, 'fit_prior': False},\n",
       "  {'alpha': 1.0, 'fit_prior': True},\n",
       "  {'alpha': 1.0, 'fit_prior': False}],\n",
       " 'split0_test_score': array([0.73333333, 0.73333333, 0.66666667, 0.66666667, 0.66666667,\n",
       "        0.66666667, 0.66666667, 0.66666667]),\n",
       " 'split1_test_score': array([0.93333333, 0.93333333, 0.66666667, 0.66666667, 0.66666667,\n",
       "        0.66666667, 0.66666667, 0.66666667]),\n",
       " 'split2_test_score': array([0.92307692, 0.92307692, 0.69230769, 0.69230769, 0.69230769,\n",
       "        0.69230769, 0.69230769, 0.69230769]),\n",
       " 'split3_test_score': array([0.84615385, 0.84615385, 0.76923077, 0.84615385, 0.69230769,\n",
       "        0.76923077, 0.69230769, 0.69230769]),\n",
       " 'split4_test_score': array([0.84615385, 0.84615385, 0.69230769, 0.69230769, 0.69230769,\n",
       "        0.69230769, 0.69230769, 0.69230769]),\n",
       " 'mean_test_score': array([0.85507246, 0.85507246, 0.69565217, 0.71014493, 0.68115942,\n",
       "        0.69565217, 0.68115942, 0.68115942]),\n",
       " 'std_test_score': array([0.07385509, 0.07385509, 0.03727593, 0.06653567, 0.01271099,\n",
       "        0.03727593, 0.01271099, 0.01271099]),\n",
       " 'rank_test_score': array([1, 1, 4, 3, 6, 4, 6, 6], dtype=int32),\n",
       " 'split0_train_score': array([1.        , 1.        , 0.87037037, 0.92592593, 0.74074074,\n",
       "        0.85185185, 0.68518519, 0.83333333]),\n",
       " 'split1_train_score': array([1.        , 1.        , 0.87037037, 0.92592593, 0.72222222,\n",
       "        0.81481481, 0.68518519, 0.81481481]),\n",
       " 'split2_train_score': array([1.        , 1.        , 0.875     , 0.98214286, 0.73214286,\n",
       "        0.82142857, 0.67857143, 0.78571429]),\n",
       " 'split3_train_score': array([1.        , 1.        , 0.875     , 0.94642857, 0.71428571,\n",
       "        0.80357143, 0.67857143, 0.80357143]),\n",
       " 'split4_train_score': array([1.        , 1.        , 0.89285714, 0.96428571, 0.73214286,\n",
       "        0.85714286, 0.67857143, 0.82142857]),\n",
       " 'mean_train_score': array([1.        , 1.        , 0.87671958, 0.9489418 , 0.72830688,\n",
       "        0.8297619 , 0.68121693, 0.81177249]),\n",
       " 'std_train_score': array([0.        , 0.        , 0.00833018, 0.02192498, 0.00913944,\n",
       "        0.02105461, 0.00324007, 0.01620897])}"
      ]
     },
     "execution_count": 78,
     "metadata": {},
     "output_type": "execute_result"
    }
   ],
   "source": [
    "clf.cv_results_"
   ]
  },
  {
   "cell_type": "code",
   "execution_count": 80,
   "metadata": {},
   "outputs": [],
   "source": [
    "model = clf.best_estimator_"
   ]
  },
  {
   "cell_type": "code",
   "execution_count": 82,
   "metadata": {},
   "outputs": [],
   "source": [
    "test_matrix = vectorizer.transform(X_test)\n",
    "predictions = model.predict(test_matrix)"
   ]
  },
  {
   "cell_type": "code",
   "execution_count": 85,
   "metadata": {},
   "outputs": [
    {
     "name": "stdout",
     "output_type": "stream",
     "text": [
      "[[ 8  2]\n",
      " [ 0 20]]\n"
     ]
    }
   ],
   "source": [
    "print(confusion_matrix(y_test, predictions))"
   ]
  },
  {
   "cell_type": "code",
   "execution_count": 87,
   "metadata": {},
   "outputs": [
    {
     "name": "stdout",
     "output_type": "stream",
     "text": [
      "             precision    recall  f1-score   support\n",
      "\n",
      "          0       1.00      0.80      0.89        10\n",
      "          1       0.91      1.00      0.95        20\n",
      "\n",
      "avg / total       0.94      0.93      0.93        30\n",
      "\n"
     ]
    }
   ],
   "source": [
    "print(classification_report(y_test, predictions))"
   ]
  },
  {
   "cell_type": "code",
   "execution_count": 90,
   "metadata": {},
   "outputs": [
    {
     "name": "stdout",
     "output_type": "stream",
     "text": [
      "0.9333333333333333\n"
     ]
    }
   ],
   "source": [
    "print(accuracy_score(y_test, predictions))"
   ]
  },
  {
   "cell_type": "code",
   "execution_count": 91,
   "metadata": {},
   "outputs": [
    {
     "data": {
      "text/plain": [
       "MultinomialNB(alpha=0.0, class_prior=None, fit_prior=True)"
      ]
     },
     "execution_count": 91,
     "metadata": {},
     "output_type": "execute_result"
    }
   ],
   "source": [
    "# retrain on all data for best model\n",
    "clf.best_estimator_"
   ]
  },
  {
   "cell_type": "code",
   "execution_count": 92,
   "metadata": {},
   "outputs": [],
   "source": [
    "v = TfidfVectorizer()\n",
    "final_matrix = v.fit_transform(df['text'])"
   ]
  },
  {
   "cell_type": "code",
   "execution_count": 97,
   "metadata": {},
   "outputs": [
    {
     "name": "stderr",
     "output_type": "stream",
     "text": [
      "/Users/jeremymiller/anaconda3/lib/python3.6/site-packages/sklearn/naive_bayes.py:472: UserWarning: alpha too small will result in numeric errors, setting alpha = 1.0e-10\n",
      "  'setting alpha = %.1e' % _ALPHA_MIN)\n"
     ]
    },
    {
     "data": {
      "text/plain": [
       "MultinomialNB(alpha=0.0, class_prior=None, fit_prior=True)"
      ]
     },
     "execution_count": 97,
     "metadata": {},
     "output_type": "execute_result"
    }
   ],
   "source": [
    "final_model = MultinomialNB(alpha=0.0)\n",
    "final_model.fit(final_matrix, df['label'])"
   ]
  },
  {
   "cell_type": "code",
   "execution_count": 99,
   "metadata": {},
   "outputs": [
    {
     "name": "stderr",
     "output_type": "stream",
     "text": [
      "/Users/jeremymiller/anaconda3/lib/python3.6/site-packages/sklearn/naive_bayes.py:472: UserWarning: alpha too small will result in numeric errors, setting alpha = 1.0e-10\n",
      "  'setting alpha = %.1e' % _ALPHA_MIN)\n",
      "/Users/jeremymiller/anaconda3/lib/python3.6/site-packages/sklearn/naive_bayes.py:472: UserWarning: alpha too small will result in numeric errors, setting alpha = 1.0e-10\n",
      "  'setting alpha = %.1e' % _ALPHA_MIN)\n",
      "/Users/jeremymiller/anaconda3/lib/python3.6/site-packages/sklearn/naive_bayes.py:472: UserWarning: alpha too small will result in numeric errors, setting alpha = 1.0e-10\n",
      "  'setting alpha = %.1e' % _ALPHA_MIN)\n",
      "/Users/jeremymiller/anaconda3/lib/python3.6/site-packages/sklearn/naive_bayes.py:472: UserWarning: alpha too small will result in numeric errors, setting alpha = 1.0e-10\n",
      "  'setting alpha = %.1e' % _ALPHA_MIN)\n",
      "/Users/jeremymiller/anaconda3/lib/python3.6/site-packages/sklearn/naive_bayes.py:472: UserWarning: alpha too small will result in numeric errors, setting alpha = 1.0e-10\n",
      "  'setting alpha = %.1e' % _ALPHA_MIN)\n",
      "/Users/jeremymiller/anaconda3/lib/python3.6/site-packages/sklearn/utils/deprecation.py:122: FutureWarning: You are accessing a training score ('train_score'), which will not be available by default any more in 0.21. If you need training scores, please set return_train_score=True\n",
      "  warnings.warn(*warn_args, **warn_kwargs)\n"
     ]
    },
    {
     "data": {
      "text/plain": [
       "{'fit_time': array([0.00432897, 0.00435877, 0.00276804, 0.00305605, 0.00269079]),\n",
       " 'score_time': array([0.00072408, 0.00070715, 0.00077915, 0.00063205, 0.00089598]),\n",
       " 'test_score': array([0.9047619 , 0.80952381, 1.        , 1.        , 0.89473684]),\n",
       " 'train_score': array([1., 1., 1., 1., 1.])}"
      ]
     },
     "execution_count": 99,
     "metadata": {},
     "output_type": "execute_result"
    }
   ],
   "source": [
    "cross_validate(final_model, final_matrix, df['label'], cv=5)"
   ]
  },
  {
   "cell_type": "code",
   "execution_count": null,
   "metadata": {},
   "outputs": [],
   "source": []
  },
  {
   "cell_type": "code",
   "execution_count": null,
   "metadata": {},
   "outputs": [],
   "source": []
  }
 ],
 "metadata": {
  "kernelspec": {
   "display_name": "Python 3",
   "language": "python",
   "name": "python3"
  },
  "language_info": {
   "codemirror_mode": {
    "name": "ipython",
    "version": 3
   },
   "file_extension": ".py",
   "mimetype": "text/x-python",
   "name": "python",
   "nbconvert_exporter": "python",
   "pygments_lexer": "ipython3",
   "version": "3.6.8"
  }
 },
 "nbformat": 4,
 "nbformat_minor": 2
}
